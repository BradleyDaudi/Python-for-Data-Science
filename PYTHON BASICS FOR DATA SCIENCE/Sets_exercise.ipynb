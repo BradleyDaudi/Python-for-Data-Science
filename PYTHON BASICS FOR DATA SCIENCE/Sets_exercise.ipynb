{
 "cells": [
  {
   "cell_type": "markdown",
   "id": "cd88ea27",
   "metadata": {},
   "source": [
    "<div align=\"center\" style=\" font-size: 80%; text-align: center; margin: 0 auto\">\n",
    "<img src=\"https://raw.githubusercontent.com/Explore-AI/Pictures/master/Python-Notebook-Banners/Exercise.png\"  style=\"display: block; margin-left: auto; margin-right: auto;\";/>\n",
    "</div>"
   ]
  },
  {
   "cell_type": "markdown",
   "id": "f662d169",
   "metadata": {},
   "source": [
    "# Exercise: Sets\n",
    "© ExploreAI Academy"
   ]
  },
  {
   "cell_type": "markdown",
   "id": "26af890c",
   "metadata": {},
   "source": [
    "In this notebook, we'll be looking at exercises involving sets and how we manipulate these data structures. \n",
    "\n"
   ]
  },
  {
   "cell_type": "markdown",
   "id": "2d230d14",
   "metadata": {
    "tags": []
   },
   "source": [
    "## Learning objectives\n",
    "\n",
    "- Convert a list to a set and explore key differences.\n",
    "- Understand the core characteristics of sets: unique elements, non-indexed values.\n",
    "- Learn how to test membership in a set."
   ]
  },
  {
   "cell_type": "markdown",
   "id": "de45a481",
   "metadata": {},
   "source": [
    "## Exercises"
   ]
  },
  {
   "cell_type": "markdown",
   "id": "5a0b7683",
   "metadata": {
    "tags": []
   },
   "source": [
    "### Exercise 1\n",
    "\n",
    "1) Our forest rehabilitation centre contains various trees. To make sure we have all the species covered, we have to determine which unique trees we have already planted.\n",
    "- Convert the provided `tree_list` to a set, `tree_set`. \n",
    "- Confirm that our new variable is a set. \n",
    "- Print the original variable, as well as our new variable. What can we notice about the order of elements? \n"
   ]
  },
  {
   "cell_type": "code",
   "execution_count": 23,
   "id": "c2ee76ec",
   "metadata": {
    "scrolled": true
   },
   "outputs": [
    {
     "name": "stdout",
     "output_type": "stream",
     "text": [
      "<class 'set'>\n",
      "tree_list =  ['Tamboti', 'Baobab', 'Umbrella thorn', 'Yellowwood', 'Fever Tree', 'Moringa', 'Marula', 'Waterpear', 'Baobab', 'Fountain Tree', 'Papaya Tree', 'Indian Laurel', 'Moringa']\n",
      "tree_set =  {'Tamboti', 'Baobab', 'Fever Tree', 'Moringa', 'Umbrella thorn', 'Marula', 'Yellowwood', 'Waterpear', 'Indian Laurel', 'Fountain Tree', 'Papaya Tree'}\n"
     ]
    }
   ],
   "source": [
    "# creating a list\n",
    "tree_list = ['Tamboti', 'Baobab', 'Umbrella thorn', 'Yellowwood', 'Fever Tree', 'Moringa', \n",
    "             'Marula', 'Waterpear','Baobab', 'Fountain Tree', 'Papaya Tree', 'Indian Laurel', 'Moringa']\n",
    "\n",
    "# insert your code here \n",
    "tree_set = set(tree_list)\n",
    "print(type(tree_set))\n",
    "print(\"tree_list = \", tree_list)\n",
    "print(\"tree_set = \", tree_set)\n"
   ]
  },
  {
   "cell_type": "markdown",
   "id": "5119d3a6",
   "metadata": {},
   "source": [
    "<br>\n",
    "\n",
    "2. Compare the **number** of elements in `tree_list` to `tree_set`. Print the number of elements in each. "
   ]
  },
  {
   "cell_type": "code",
   "execution_count": 9,
   "id": "fd136352",
   "metadata": {},
   "outputs": [
    {
     "name": "stdout",
     "output_type": "stream",
     "text": [
      "elements_in_tree_list = 13\n",
      "elements_in_tree_set = 11\n"
     ]
    }
   ],
   "source": [
    "number_of_tree_list = len(tree_list)\n",
    "number_of_tree_set = len(tree_set)\n",
    "print(\"elements_in_tree_list =\", number_of_tree_list)\n",
    "print(\"elements_in_tree_set =\", number_of_tree_set)\n"
   ]
  },
  {
   "cell_type": "markdown",
   "id": "dc9b7dc6",
   "metadata": {},
   "source": [
    "<br>\n",
    "\n",
    "### Exercise 2\n",
    "\n",
    "1. A conservationist recently spent two days in a national park in South Africa and was writing down tree types in a notebook. Each of the days was captured separately and we need to **create two variables** for these trees using sets: `day_1_trees` and `day_2_trees`. \n",
    "\n",
    "Day 1 captured the following tree types: <br>\n",
    "Baobab,\n",
    "Buffalo Thorn,\n",
    "Bushwillow,\n",
    "Jackalberry,\n",
    "Knob Thorn,\n",
    "Lala Palm,\n",
    "Marula Tree,\n",
    "Umbrella Thorn,\n",
    "Weeping Boer Bean,\n",
    "Sausage Tree.\n",
    "\n",
    "Day 2 captured the following tree types:<br>\n",
    "Mopane Tree,\n",
    "Bushwillow,\n",
    "Knob Thorn,\n",
    "Jackalberry,\n",
    "Nara Plant,\n",
    "Wild Date Palm,\n",
    "Natal Mahogany,\n",
    "Tamboti,\n",
    "Leadwood,\n",
    "Bushwillow.\n"
   ]
  },
  {
   "cell_type": "code",
   "execution_count": 14,
   "id": "ae48fab0",
   "metadata": {},
   "outputs": [
    {
     "name": "stdout",
     "output_type": "stream",
     "text": [
      "{'Baobab', 'Jackalberry', 'Weeping Boer Bean', 'Lala Palm', 'Bushwillow', 'Marula Tree', 'Umbrella Thorn', 'Thorn', 'Sausage Tree', 'Knob Thorn', 'Buffalo'}\n",
      "{'Leadwood', 'Tamboti', 'Wild Date Palm', 'Jackalberry', 'Mopane Tree', 'Bushwillow', 'Nara Plant', 'Knob Thorn', 'Natal Mahogany'}\n"
     ]
    }
   ],
   "source": [
    "#creating sets for each day\n",
    "day_1_trees = {\"Baobab\", \"Buffalo\", \"Thorn\", \"Bushwillow\", \"Jackalberry\", \"Knob Thorn\", \"Lala Palm\", \"Marula Tree\", \"Umbrella Thorn\", \"Weeping Boer Bean\", \"Sausage Tree\"\n",
    "}\n",
    "\n",
    "day_2_trees = {\"Mopane Tree\", \"Bushwillow\", \"Knob Thorn\", \"Jackalberry\", \"Nara Plant\", \"Wild Date Palm\", \"Natal Mahogany\", \"Tamboti\", \"Leadwood\", \"Bushwillow\"}\n",
    "\n",
    "type(day_1_trees)\n",
    "type(day_2_trees)\n",
    "print(day_1_trees)\n",
    "print(day_2_trees)\n"
   ]
  },
  {
   "cell_type": "markdown",
   "id": "ed90a3e0",
   "metadata": {},
   "source": [
    "One of the benefits of using **sets** is that there are built-in methods that can be used on them. The following commands: \n",
    "- `union`\n",
    "- `intersection`\n",
    "- `difference` <br>\n",
    "are especially useful when presented with sets we'd like to compare and manipulate based on their elements. \n",
    "<br>\n",
    "\n",
    "2. Using the commands above, we have been tasked to do the following: \n",
    "- Create a set called `union_result` that combines `day_1_trees` and `day_2_trees`.\n",
    "- Create a set called `both_days` that returns trees that were seen on both day 1 and day 2, so are in both `day_1_trees` and `day_2_trees`.\n",
    "- Create a set that contains the trees that are in the `day_2_trees` set, **but not in** `day_1_trees`.\n",
    "- Create a set called `one_set_result` that contains trees found in one of these sets only.\n",
    "\n",
    "Hint: Take a look at the Python documentation if you're not sure where to start."
   ]
  },
  {
   "cell_type": "code",
   "execution_count": 24,
   "id": "cfd87821",
   "metadata": {},
   "outputs": [
    {
     "name": "stdout",
     "output_type": "stream",
     "text": [
      "union_result =  {'Wild Date Palm', 'Weeping Boer Bean', 'Marula Tree', 'Sausage Tree', 'Thorn', 'Mopane Tree', 'Leadwood', 'Tamboti', 'Baobab', 'Jackalberry', 'Bushwillow', 'Lala Palm', 'Umbrella Thorn', 'Nara Plant', 'Knob Thorn', 'Natal Mahogany', 'Buffalo'}\n",
      "both_days =  {'Bushwillow', 'Jackalberry', 'Knob Thorn'}\n",
      "difference = {'Baobab', 'Weeping Boer Bean', 'Lala Palm', 'Marula Tree', 'Umbrella Thorn', 'Thorn', 'Sausage Tree', 'Buffalo'}\n",
      "One set only: {'Leadwood', 'Tamboti', 'Baobab', 'Wild Date Palm', 'Weeping Boer Bean', 'Lala Palm', 'Marula Tree', 'Umbrella Thorn', 'Thorn', 'Sausage Tree', 'Nara Plant', 'Mopane Tree', 'Natal Mahogany', 'Buffalo'}\n"
     ]
    }
   ],
   "source": [
    "# performing operations\n",
    "# union \n",
    "union_result = day_1_trees.union(day_2_trees)\n",
    "# intersection of both sets\n",
    "both_days = day_1_trees.intersection(day_2_trees)\n",
    "# difference\n",
    "difference = day_1_trees.difference(day_2_trees)\n",
    "# One set only\n",
    "one_set_result = day_2_trees.difference(day_1_trees).union(day_1_trees.difference(day_2_trees))\n",
    "print(\"union_result = \", union_result)\n",
    "print(\"both_days = \", both_days)\n",
    "print(\"difference =\", difference)\n",
    "print('One set only:',one_set_result)\n"
   ]
  },
  {
   "cell_type": "markdown",
   "id": "5cdd4572",
   "metadata": {},
   "source": [
    "<br>\n",
    "\n",
    "3. Determine whether the `both_days` set is a subset of `day_1_trees`. \n",
    "\n",
    "Hint: If you haven't come across the command for this yet, try hitting the `tab` key to search for the relevant command or look it up in the Python documentation.\n"
   ]
  },
  {
   "cell_type": "code",
   "execution_count": 21,
   "id": "06cf870d",
   "metadata": {},
   "outputs": [
    {
     "data": {
      "text/plain": [
       "True"
      ]
     },
     "execution_count": 21,
     "metadata": {},
     "output_type": "execute_result"
    }
   ],
   "source": [
    "# subset determination\n",
    "both_days.issubset(day_1_trees)\n"
   ]
  },
  {
   "cell_type": "markdown",
   "id": "82327750",
   "metadata": {},
   "source": [
    "<br>\n",
    "\n",
    "4. Determine whether all of the elements in the following variable, `hardwood_trees`, are contained in `day_2_trees`. Ideally, we'd like to run a single command to test this.\n"
   ]
  },
  {
   "cell_type": "code",
   "execution_count": 22,
   "id": "342d5d21",
   "metadata": {},
   "outputs": [
    {
     "data": {
      "text/plain": [
       "False"
      ]
     },
     "execution_count": 22,
     "metadata": {},
     "output_type": "execute_result"
    }
   ],
   "source": [
    "hardwood_trees = {'Yellowwood', 'Leadwood', 'Blackwood'}\n",
    "\n",
    "# insert your code here\n",
    "hardwood_trees.issubset(day_2_trees)\n"
   ]
  },
  {
   "cell_type": "markdown",
   "id": "e9956efe",
   "metadata": {
    "tags": []
   },
   "source": [
    "<br>\n",
    "\n",
    "## Summary\n",
    "\n",
    "In this notebook, we looked at creating a set from a list, investigated key differences between lists and sets, and applied built-in set methods to manipulate sets. \n"
   ]
  },
  {
   "cell_type": "markdown",
   "id": "26fd094b-0fee-46f1-a4b8-73766813c42b",
   "metadata": {
    "tags": []
   },
   "source": [
    "#  \n",
    "\n",
    "<div align=\"center\" style=\" font-size: 80%; text-align: center; margin: 0 auto\">\n",
    "<img src=\"https://raw.githubusercontent.com/Explore-AI/Pictures/master/ExploreAI_logos/EAI_Blue_Dark.png\"  style=\"width:200px\";/>\n",
    "</div>"
   ]
  }
 ],
 "metadata": {
  "kernelspec": {
   "display_name": "Python 3 (ipykernel)",
   "language": "python",
   "name": "python3"
  },
  "language_info": {
   "codemirror_mode": {
    "name": "ipython",
    "version": 3
   },
   "file_extension": ".py",
   "mimetype": "text/x-python",
   "name": "python",
   "nbconvert_exporter": "python",
   "pygments_lexer": "ipython3",
   "version": "3.11.1"
  }
 },
 "nbformat": 4,
 "nbformat_minor": 5
}
